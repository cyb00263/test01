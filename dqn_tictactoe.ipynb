{
  "nbformat": 4,
  "nbformat_minor": 0,
  "metadata": {
    "colab": {
      "name": "dqn_tictactoe.ipynb",
      "provenance": [],
      "collapsed_sections": [],
      "authorship_tag": "ABX9TyNdS/YIZ1JbmPs/KH3QmSHF",
      "include_colab_link": true
    },
    "kernelspec": {
      "display_name": "Python 3",
      "name": "python3"
    }
  },
  "cells": [
    {
      "cell_type": "markdown",
      "metadata": {
        "id": "view-in-github",
        "colab_type": "text"
      },
      "source": [
        "<a href=\"https://colab.research.google.com/github/cyb00263/test01/blob/main/dqn_tictactoe.ipynb\" target=\"_parent\"><img src=\"https://colab.research.google.com/assets/colab-badge.svg\" alt=\"Open In Colab\"/></a>"
      ]
    },
    {
      "cell_type": "code",
      "metadata": {
        "colab": {
          "base_uri": "https://localhost:8080/"
        },
        "id": "lpGmWbFCkYt0",
        "outputId": "020de12a-9e9a-4513-d6c4-bde953c8779d"
      },
      "source": [
        "#installing dependencies\r\n",
        "!apt-get -qq -y install libcusparse8.0 libnvrtc8.0 libnvtoolsext1 > /dev/null\r\n",
        "!ln -snf /usr/lib/x86_64-linux-gnu/libnvrtc-builtins.so.8.0 /usr/lib/x86_64-linux-gnu/libnvrtc-builtins.so\r\n",
        "!apt-get -qq -y install xvfb freeglut3-dev ffmpeg> /dev/null\r\n",
        "\r\n",
        "!pip -q install gym\r\n",
        "!pip -q install pyglet\r\n",
        "!pip -q install pyopengl\r\n",
        "!pip -q install pyvirtualdisplay\r\n",
        "\r\n",
        "# Start virtual display\r\n",
        "from pyvirtualdisplay import Display\r\n",
        "display = Display(visible=0, size=(1024, 768))\r\n",
        "display.start()\r\n",
        "import os\r\n",
        "#os.environ[\"DISPLAY\"] = \":\" + str(display.display) + \".\" + str(display.screen)"
      ],
      "execution_count": 1,
      "outputs": [
        {
          "output_type": "stream",
          "text": [
            "E: Unable to locate package libcusparse8.0\n",
            "E: Couldn't find any package by glob 'libcusparse8.0'\n",
            "E: Couldn't find any package by regex 'libcusparse8.0'\n",
            "E: Unable to locate package libnvrtc8.0\n",
            "E: Couldn't find any package by glob 'libnvrtc8.0'\n",
            "E: Couldn't find any package by regex 'libnvrtc8.0'\n"
          ],
          "name": "stdout"
        }
      ]
    },
    {
      "cell_type": "code",
      "metadata": {
        "colab": {
          "base_uri": "https://localhost:8080/"
        },
        "id": "6eFyap0zkYcN",
        "outputId": "daa21a93-6247-4cec-84bf-97e9b7dfe504"
      },
      "source": [
        "!pip install tensorflow==1.14\r\n",
        "!pip install keras==2.2.4\r\n",
        "!pip install keras-rl==0.4.2"
      ],
      "execution_count": 2,
      "outputs": [
        {
          "output_type": "stream",
          "text": [
            "Requirement already satisfied: tensorflow==1.14 in /usr/local/lib/python3.6/dist-packages (1.14.0)\n",
            "Requirement already satisfied: grpcio>=1.8.6 in /usr/local/lib/python3.6/dist-packages (from tensorflow==1.14) (1.32.0)\n",
            "Requirement already satisfied: astor>=0.6.0 in /usr/local/lib/python3.6/dist-packages (from tensorflow==1.14) (0.8.1)\n",
            "Requirement already satisfied: six>=1.10.0 in /usr/local/lib/python3.6/dist-packages (from tensorflow==1.14) (1.15.0)\n",
            "Requirement already satisfied: keras-applications>=1.0.6 in /usr/local/lib/python3.6/dist-packages (from tensorflow==1.14) (1.0.8)\n",
            "Requirement already satisfied: tensorboard<1.15.0,>=1.14.0 in /usr/local/lib/python3.6/dist-packages (from tensorflow==1.14) (1.14.0)\n",
            "Requirement already satisfied: termcolor>=1.1.0 in /usr/local/lib/python3.6/dist-packages (from tensorflow==1.14) (1.1.0)\n",
            "Requirement already satisfied: tensorflow-estimator<1.15.0rc0,>=1.14.0rc0 in /usr/local/lib/python3.6/dist-packages (from tensorflow==1.14) (1.14.0)\n",
            "Requirement already satisfied: protobuf>=3.6.1 in /usr/local/lib/python3.6/dist-packages (from tensorflow==1.14) (3.12.4)\n",
            "Requirement already satisfied: wrapt>=1.11.1 in /usr/local/lib/python3.6/dist-packages (from tensorflow==1.14) (1.12.1)\n",
            "Requirement already satisfied: google-pasta>=0.1.6 in /usr/local/lib/python3.6/dist-packages (from tensorflow==1.14) (0.2.0)\n",
            "Requirement already satisfied: absl-py>=0.7.0 in /usr/local/lib/python3.6/dist-packages (from tensorflow==1.14) (0.10.0)\n",
            "Requirement already satisfied: numpy<2.0,>=1.14.5 in /usr/local/lib/python3.6/dist-packages (from tensorflow==1.14) (1.19.4)\n",
            "Requirement already satisfied: wheel>=0.26 in /usr/local/lib/python3.6/dist-packages (from tensorflow==1.14) (0.36.2)\n",
            "Requirement already satisfied: gast>=0.2.0 in /usr/local/lib/python3.6/dist-packages (from tensorflow==1.14) (0.3.3)\n",
            "Requirement already satisfied: keras-preprocessing>=1.0.5 in /usr/local/lib/python3.6/dist-packages (from tensorflow==1.14) (1.1.2)\n",
            "Requirement already satisfied: h5py in /usr/local/lib/python3.6/dist-packages (from keras-applications>=1.0.6->tensorflow==1.14) (2.10.0)\n",
            "Requirement already satisfied: setuptools>=41.0.0 in /usr/local/lib/python3.6/dist-packages (from tensorboard<1.15.0,>=1.14.0->tensorflow==1.14) (51.0.0)\n",
            "Requirement already satisfied: werkzeug>=0.11.15 in /usr/local/lib/python3.6/dist-packages (from tensorboard<1.15.0,>=1.14.0->tensorflow==1.14) (1.0.1)\n",
            "Requirement already satisfied: markdown>=2.6.8 in /usr/local/lib/python3.6/dist-packages (from tensorboard<1.15.0,>=1.14.0->tensorflow==1.14) (3.3.3)\n",
            "Requirement already satisfied: importlib-metadata; python_version < \"3.8\" in /usr/local/lib/python3.6/dist-packages (from markdown>=2.6.8->tensorboard<1.15.0,>=1.14.0->tensorflow==1.14) (3.3.0)\n",
            "Requirement already satisfied: zipp>=0.5 in /usr/local/lib/python3.6/dist-packages (from importlib-metadata; python_version < \"3.8\"->markdown>=2.6.8->tensorboard<1.15.0,>=1.14.0->tensorflow==1.14) (3.4.0)\n",
            "Requirement already satisfied: typing-extensions>=3.6.4; python_version < \"3.8\" in /usr/local/lib/python3.6/dist-packages (from importlib-metadata; python_version < \"3.8\"->markdown>=2.6.8->tensorboard<1.15.0,>=1.14.0->tensorflow==1.14) (3.7.4.3)\n",
            "Requirement already satisfied: keras==2.2.4 in /usr/local/lib/python3.6/dist-packages (2.2.4)\n",
            "Requirement already satisfied: numpy>=1.9.1 in /usr/local/lib/python3.6/dist-packages (from keras==2.2.4) (1.19.4)\n",
            "Requirement already satisfied: keras-applications>=1.0.6 in /usr/local/lib/python3.6/dist-packages (from keras==2.2.4) (1.0.8)\n",
            "Requirement already satisfied: keras-preprocessing>=1.0.5 in /usr/local/lib/python3.6/dist-packages (from keras==2.2.4) (1.1.2)\n",
            "Requirement already satisfied: pyyaml in /usr/local/lib/python3.6/dist-packages (from keras==2.2.4) (3.13)\n",
            "Requirement already satisfied: scipy>=0.14 in /usr/local/lib/python3.6/dist-packages (from keras==2.2.4) (1.4.1)\n",
            "Requirement already satisfied: h5py in /usr/local/lib/python3.6/dist-packages (from keras==2.2.4) (2.10.0)\n",
            "Requirement already satisfied: six>=1.9.0 in /usr/local/lib/python3.6/dist-packages (from keras==2.2.4) (1.15.0)\n",
            "Requirement already satisfied: keras-rl==0.4.2 in /usr/local/lib/python3.6/dist-packages (0.4.2)\n",
            "Requirement already satisfied: keras>=2.0.7 in /usr/local/lib/python3.6/dist-packages (from keras-rl==0.4.2) (2.2.4)\n",
            "Requirement already satisfied: keras-applications>=1.0.6 in /usr/local/lib/python3.6/dist-packages (from keras>=2.0.7->keras-rl==0.4.2) (1.0.8)\n",
            "Requirement already satisfied: pyyaml in /usr/local/lib/python3.6/dist-packages (from keras>=2.0.7->keras-rl==0.4.2) (3.13)\n",
            "Requirement already satisfied: six>=1.9.0 in /usr/local/lib/python3.6/dist-packages (from keras>=2.0.7->keras-rl==0.4.2) (1.15.0)\n",
            "Requirement already satisfied: scipy>=0.14 in /usr/local/lib/python3.6/dist-packages (from keras>=2.0.7->keras-rl==0.4.2) (1.4.1)\n",
            "Requirement already satisfied: keras-preprocessing>=1.0.5 in /usr/local/lib/python3.6/dist-packages (from keras>=2.0.7->keras-rl==0.4.2) (1.1.2)\n",
            "Requirement already satisfied: h5py in /usr/local/lib/python3.6/dist-packages (from keras>=2.0.7->keras-rl==0.4.2) (2.10.0)\n",
            "Requirement already satisfied: numpy>=1.9.1 in /usr/local/lib/python3.6/dist-packages (from keras>=2.0.7->keras-rl==0.4.2) (1.19.4)\n"
          ],
          "name": "stdout"
        }
      ]
    },
    {
      "cell_type": "code",
      "metadata": {
        "id": "qr4Ch4cHsTOp"
      },
      "source": [
        "import math\r\n",
        "import gym\r\n",
        "from gym import spaces, logger\r\n",
        "from gym.utils import seeding\r\n",
        "import numpy as np\r\n",
        "import copy\r\n",
        "import random\r\n",
        "\r\n",
        "class TicTacToeEnv(gym.core.Env):\r\n",
        "    def __init__(self):\r\n",
        "        self.n_action = 9\r\n",
        "        self.board = [0] * self.n_action\r\n",
        "        self.action_space = gym.spaces.Discrete(self.n_action) # actionの取りうる値\r\n",
        "        self.observation_space = gym.spaces.Box(low=-1, high =1, shape=(self.n_action,)) \r\n",
        "        self.result = []\r\n",
        "\r\n",
        "    def step(self, action):\r\n",
        "      self.board, end_flg, reward = self.get_input(self.board, action)\r\n",
        "      done = end_flg\r\n",
        "      info = {}\r\n",
        "\r\n",
        "      return self.board, reward, done, info\r\n",
        "\r\n",
        "    def get_input(self, board, action):\r\n",
        "      end_flg = 0\r\n",
        "      reward = 0\r\n",
        "      #AI#\r\n",
        "      space = [i for i, x in enumerate(board) if x == 0 ]\r\n",
        "      if action in space:\r\n",
        "        flg = 1\r\n",
        "        board[action] = flg\r\n",
        "        end_flg = self.judge(board,flg)\r\n",
        "        if end_flg == 1:\r\n",
        "          reward = 1\r\n",
        "          self.result.append(reward)\r\n",
        "      #乱数#\r\n",
        "        else:\r\n",
        "          space = [i for i, x in enumerate(board) if x == 0 ]\r\n",
        "          ransu = int(random.choice(space))\r\n",
        "          flg = -1\r\n",
        "          board[ransu] = flg\r\n",
        "          end_flg = self.judge(board,flg)\r\n",
        "          if end_flg == 1:\r\n",
        "            reward = -1\r\n",
        "            self.result.append(reward)\r\n",
        "      else:\r\n",
        "        end_flg = 1\r\n",
        "        reward = -1\r\n",
        "        self.result.append(reward)\r\n",
        "\r\n",
        "      return board, end_flg, reward\r\n",
        "\r\n",
        "    def judge(self, board, flg):\r\n",
        "      end_flg = 0\r\n",
        "      first_list = [0, 3, 6, 0, 1, 2, 0, 2]\r\n",
        "      second_list = [1, 4, 7, 3, 4, 5, 4, 4]\r\n",
        "      third_list = [2, 5, 8, 6, 7, 8, 8, 6]\r\n",
        "      for first, second, third in zip(first_list, second_list, third_list):\r\n",
        "        if board[first] ==flg and board[first] == board[second] and board[first] == board[third]:\r\n",
        "          end_flg = 1\r\n",
        "          break\r\n",
        "      space = [i for i, x in enumerate(board) if x == 0 ]\r\n",
        "      if len(space) == 0:\r\n",
        "        end_flg = 1\r\n",
        "        reward = -1\r\n",
        "\r\n",
        "      return end_flg\r\n",
        "    \r\n",
        "    def reset(self):\r\n",
        "        self.board = [0] * self.n_action\r\n",
        "        return self.board\r\n",
        "\r\n",
        "    def render(self, mode):\r\n",
        "        pass\r\n",
        "\r\n",
        "    def close(self):\r\n",
        "        pass\r\n",
        "\r\n",
        "    def seed(self):\r\n",
        "        pass"
      ],
      "execution_count": 3,
      "outputs": []
    },
    {
      "cell_type": "code",
      "metadata": {
        "colab": {
          "base_uri": "https://localhost:8080/"
        },
        "id": "tD_BrfZckXPv",
        "outputId": "7ab709e1-200f-4da1-ecd2-a633fe2c04f4"
      },
      "source": [
        "from keras.models import Sequential\r\n",
        "from keras.layers import Dense, Activation, Flatten\r\n",
        "from keras.optimizers import Adam\r\n",
        "from rl.agents.dqn import DQNAgent\r\n",
        "from rl.policy import BoltzmannQPolicy\r\n",
        "from rl.memory import SequentialMemory\r\n",
        "\r\n",
        "env = TicTacToeEnv()\r\n",
        "n_action = 9\r\n",
        "\r\n",
        "# ニューラルネットワークの構造を定義\r\n",
        "model = Sequential()\r\n",
        "model.add(Flatten(input_shape=(1,) + env.observation_space.shape))\r\n",
        "model.add(Dense(128))\r\n",
        "model.add(Activation('relu'))\r\n",
        "model.add(Dense(n_action))\r\n",
        "model.add(Activation('linear'))\r\n",
        "print(model.summary()) # モデルの定義をコンソールに出力\r\n",
        " \r\n",
        "# モデルのコンパイル\r\n",
        "memory = SequentialMemory(limit=50000, window_length=1)\r\n",
        "policy = BoltzmannQPolicy(tau=1.)\r\n",
        "dqn = DQNAgent(model=model, nb_actions=n_action, memory=memory, nb_steps_warmup=50, target_model_update=1e-2, policy=policy)\r\n",
        "dqn.compile(Adam(lr=1e-3), metrics=['mae'])"
      ],
      "execution_count": 4,
      "outputs": [
        {
          "output_type": "stream",
          "text": [
            "Using TensorFlow backend.\n",
            "/usr/local/lib/python3.6/dist-packages/tensorflow/python/framework/dtypes.py:516: FutureWarning: Passing (type, 1) or '1type' as a synonym of type is deprecated; in a future version of numpy, it will be understood as (type, (1,)) / '(1,)type'.\n",
            "  _np_qint8 = np.dtype([(\"qint8\", np.int8, 1)])\n",
            "/usr/local/lib/python3.6/dist-packages/tensorflow/python/framework/dtypes.py:517: FutureWarning: Passing (type, 1) or '1type' as a synonym of type is deprecated; in a future version of numpy, it will be understood as (type, (1,)) / '(1,)type'.\n",
            "  _np_quint8 = np.dtype([(\"quint8\", np.uint8, 1)])\n",
            "/usr/local/lib/python3.6/dist-packages/tensorflow/python/framework/dtypes.py:518: FutureWarning: Passing (type, 1) or '1type' as a synonym of type is deprecated; in a future version of numpy, it will be understood as (type, (1,)) / '(1,)type'.\n",
            "  _np_qint16 = np.dtype([(\"qint16\", np.int16, 1)])\n",
            "/usr/local/lib/python3.6/dist-packages/tensorflow/python/framework/dtypes.py:519: FutureWarning: Passing (type, 1) or '1type' as a synonym of type is deprecated; in a future version of numpy, it will be understood as (type, (1,)) / '(1,)type'.\n",
            "  _np_quint16 = np.dtype([(\"quint16\", np.uint16, 1)])\n",
            "/usr/local/lib/python3.6/dist-packages/tensorflow/python/framework/dtypes.py:520: FutureWarning: Passing (type, 1) or '1type' as a synonym of type is deprecated; in a future version of numpy, it will be understood as (type, (1,)) / '(1,)type'.\n",
            "  _np_qint32 = np.dtype([(\"qint32\", np.int32, 1)])\n",
            "/usr/local/lib/python3.6/dist-packages/tensorflow/python/framework/dtypes.py:525: FutureWarning: Passing (type, 1) or '1type' as a synonym of type is deprecated; in a future version of numpy, it will be understood as (type, (1,)) / '(1,)type'.\n",
            "  np_resource = np.dtype([(\"resource\", np.ubyte, 1)])\n"
          ],
          "name": "stderr"
        },
        {
          "output_type": "stream",
          "text": [
            "WARNING:tensorflow:From /usr/local/lib/python3.6/dist-packages/keras/backend/tensorflow_backend.py:74: The name tf.get_default_graph is deprecated. Please use tf.compat.v1.get_default_graph instead.\n",
            "\n",
            "WARNING:tensorflow:From /usr/local/lib/python3.6/dist-packages/keras/backend/tensorflow_backend.py:517: The name tf.placeholder is deprecated. Please use tf.compat.v1.placeholder instead.\n",
            "\n",
            "WARNING:tensorflow:From /usr/local/lib/python3.6/dist-packages/keras/backend/tensorflow_backend.py:4138: The name tf.random_uniform is deprecated. Please use tf.random.uniform instead.\n",
            "\n"
          ],
          "name": "stdout"
        },
        {
          "output_type": "stream",
          "text": [
            "/usr/local/lib/python3.6/dist-packages/tensorboard/compat/tensorflow_stub/dtypes.py:541: FutureWarning: Passing (type, 1) or '1type' as a synonym of type is deprecated; in a future version of numpy, it will be understood as (type, (1,)) / '(1,)type'.\n",
            "  _np_qint8 = np.dtype([(\"qint8\", np.int8, 1)])\n",
            "/usr/local/lib/python3.6/dist-packages/tensorboard/compat/tensorflow_stub/dtypes.py:542: FutureWarning: Passing (type, 1) or '1type' as a synonym of type is deprecated; in a future version of numpy, it will be understood as (type, (1,)) / '(1,)type'.\n",
            "  _np_quint8 = np.dtype([(\"quint8\", np.uint8, 1)])\n",
            "/usr/local/lib/python3.6/dist-packages/tensorboard/compat/tensorflow_stub/dtypes.py:543: FutureWarning: Passing (type, 1) or '1type' as a synonym of type is deprecated; in a future version of numpy, it will be understood as (type, (1,)) / '(1,)type'.\n",
            "  _np_qint16 = np.dtype([(\"qint16\", np.int16, 1)])\n",
            "/usr/local/lib/python3.6/dist-packages/tensorboard/compat/tensorflow_stub/dtypes.py:544: FutureWarning: Passing (type, 1) or '1type' as a synonym of type is deprecated; in a future version of numpy, it will be understood as (type, (1,)) / '(1,)type'.\n",
            "  _np_quint16 = np.dtype([(\"quint16\", np.uint16, 1)])\n",
            "/usr/local/lib/python3.6/dist-packages/tensorboard/compat/tensorflow_stub/dtypes.py:545: FutureWarning: Passing (type, 1) or '1type' as a synonym of type is deprecated; in a future version of numpy, it will be understood as (type, (1,)) / '(1,)type'.\n",
            "  _np_qint32 = np.dtype([(\"qint32\", np.int32, 1)])\n",
            "/usr/local/lib/python3.6/dist-packages/tensorboard/compat/tensorflow_stub/dtypes.py:550: FutureWarning: Passing (type, 1) or '1type' as a synonym of type is deprecated; in a future version of numpy, it will be understood as (type, (1,)) / '(1,)type'.\n",
            "  np_resource = np.dtype([(\"resource\", np.ubyte, 1)])\n"
          ],
          "name": "stderr"
        },
        {
          "output_type": "stream",
          "text": [
            "_________________________________________________________________\n",
            "Layer (type)                 Output Shape              Param #   \n",
            "=================================================================\n",
            "flatten_1 (Flatten)          (None, 9)                 0         \n",
            "_________________________________________________________________\n",
            "dense_1 (Dense)              (None, 128)               1280      \n",
            "_________________________________________________________________\n",
            "activation_1 (Activation)    (None, 128)               0         \n",
            "_________________________________________________________________\n",
            "dense_2 (Dense)              (None, 9)                 1161      \n",
            "_________________________________________________________________\n",
            "activation_2 (Activation)    (None, 9)                 0         \n",
            "=================================================================\n",
            "Total params: 2,441\n",
            "Trainable params: 2,441\n",
            "Non-trainable params: 0\n",
            "_________________________________________________________________\n",
            "None\n",
            "WARNING:tensorflow:From /usr/local/lib/python3.6/dist-packages/keras/backend/tensorflow_backend.py:174: The name tf.get_default_session is deprecated. Please use tf.compat.v1.get_default_session instead.\n",
            "\n",
            "WARNING:tensorflow:From /usr/local/lib/python3.6/dist-packages/keras/backend/tensorflow_backend.py:181: The name tf.ConfigProto is deprecated. Please use tf.compat.v1.ConfigProto instead.\n",
            "\n",
            "WARNING:tensorflow:From /usr/local/lib/python3.6/dist-packages/keras/optimizers.py:790: The name tf.train.Optimizer is deprecated. Please use tf.compat.v1.train.Optimizer instead.\n",
            "\n"
          ],
          "name": "stdout"
        }
      ]
    },
    {
      "cell_type": "code",
      "metadata": {
        "colab": {
          "base_uri": "https://localhost:8080/",
          "height": 619
        },
        "id": "TX9nrSUb65Rk",
        "outputId": "44b6e690-53ed-455a-f46a-81d005e0e89a"
      },
      "source": [
        "import matplotlib.pyplot as plt\r\n",
        "\r\n",
        "# fit の結果を取得しておく\r\n",
        "history = dqn.fit(env, nb_steps=50000, visualize=False, verbose=1)\r\n",
        "\r\n",
        "dqn.save_weights('dqn_{}_weights.h5f'.format(\"TicTacToe\"), overwrite=True)\r\n",
        "\r\n",
        "# 結果を表示\r\n",
        "plt.subplot(2,1,1)\r\n",
        "plt.plot(history.history[\"nb_episode_steps\"])\r\n",
        "plt.ylabel(\"step\")\r\n",
        "\r\n",
        "plt.subplot(2,1,2)\r\n",
        "plt.plot(history.history[\"episode_reward\"])\r\n",
        "plt.xlabel(\"episode\")\r\n",
        "plt.ylabel(\"reward\")\r\n",
        "\r\n",
        "plt.show()  # windowが表示されます。"
      ],
      "execution_count": 5,
      "outputs": [
        {
          "output_type": "stream",
          "text": [
            "Training for 50000 steps ...\n",
            "Interval 1 (0 steps performed)\n",
            "10000/10000 [==============================] - 52s 5ms/step - reward: -0.0971\n",
            "2693 episodes - episode_reward: -0.361 [-1.000, 1.000] - loss: 0.046 - mean_absolute_error: 0.739 - mean_q: 0.896\n",
            "\n",
            "Interval 2 (10000 steps performed)\n",
            "10000/10000 [==============================] - 52s 5ms/step - reward: -0.0554\n",
            "2630 episodes - episode_reward: -0.211 [-1.000, 1.000] - loss: 0.044 - mean_absolute_error: 0.863 - mean_q: 1.043\n",
            "\n",
            "Interval 3 (20000 steps performed)\n",
            "10000/10000 [==============================] - 52s 5ms/step - reward: -0.0538\n",
            "2640 episodes - episode_reward: -0.204 [-1.000, 1.000] - loss: 0.045 - mean_absolute_error: 0.869 - mean_q: 1.045\n",
            "\n",
            "Interval 4 (30000 steps performed)\n",
            "10000/10000 [==============================] - 52s 5ms/step - reward: -0.0547\n",
            "2635 episodes - episode_reward: -0.208 [-1.000, 1.000] - loss: 0.045 - mean_absolute_error: 0.873 - mean_q: 1.050\n",
            "\n",
            "Interval 5 (40000 steps performed)\n",
            "10000/10000 [==============================] - 52s 5ms/step - reward: -0.0603\n",
            "done, took 259.720 seconds\n"
          ],
          "name": "stdout"
        },
        {
          "output_type": "display_data",
          "data": {
            "image/png": "[encoded data removed]",
            "text/plain": [
              "<Figure size 432x288 with 2 Axes>"
            ]
          },
          "metadata": {
            "tags": [],
            "needs_background": "light"
          }
        }
      ]
    },
    {
      "cell_type": "code",
      "metadata": {
        "colab": {
          "base_uri": "https://localhost:8080/"
        },
        "id": "KBo9FsQW7GXB",
        "outputId": "97ad7e0a-4c63-446c-8bda-7ce7c3039aa6"
      },
      "source": [
        "import rl.callbacks\r\n",
        " \r\n",
        "# ログを記録するためのクラスの定義\r\n",
        "class EpisodeLogger(rl.callbacks.Callback):\r\n",
        "    def __init__(self):\r\n",
        "        self.rewards = {}\r\n",
        "    def on_episode_begin(self, episode, logs):\r\n",
        "        self.rewards[episode] = []\r\n",
        "    def on_step_end(self, step, logs):\r\n",
        "        episode = logs['episode']\r\n",
        "        self.rewards[episode].append(logs['reward'])\r\n",
        " \r\n",
        "episode_logger = EpisodeLogger()\r\n",
        "nb_episodes = 100\r\n",
        "dqn.test(env, nb_episodes=nb_episodes, visualize=False, callbacks=[episode_logger])"
      ],
      "execution_count": 6,
      "outputs": [
        {
          "output_type": "stream",
          "text": [
            "Testing for 100 episodes ...\n",
            "Episode 1: reward: 1.000, steps: 4\n",
            "Episode 2: reward: 1.000, steps: 4\n",
            "Episode 3: reward: 1.000, steps: 4\n",
            "Episode 4: reward: 1.000, steps: 4\n",
            "Episode 5: reward: 1.000, steps: 5\n",
            "Episode 6: reward: 1.000, steps: 3\n",
            "Episode 7: reward: 1.000, steps: 4\n",
            "Episode 8: reward: 1.000, steps: 4\n",
            "Episode 9: reward: 1.000, steps: 4\n",
            "Episode 10: reward: 1.000, steps: 3\n",
            "Episode 11: reward: 1.000, steps: 5\n",
            "Episode 12: reward: 1.000, steps: 3\n",
            "Episode 13: reward: 1.000, steps: 4\n",
            "Episode 14: reward: 1.000, steps: 4\n",
            "Episode 15: reward: 1.000, steps: 3\n",
            "Episode 16: reward: 1.000, steps: 4\n",
            "Episode 17: reward: 1.000, steps: 3\n",
            "Episode 18: reward: 1.000, steps: 3\n",
            "Episode 19: reward: 1.000, steps: 4\n",
            "Episode 20: reward: 1.000, steps: 4\n",
            "Episode 21: reward: 1.000, steps: 3\n",
            "Episode 22: reward: 1.000, steps: 3\n",
            "Episode 23: reward: 1.000, steps: 5\n",
            "Episode 24: reward: 1.000, steps: 4\n",
            "Episode 25: reward: 1.000, steps: 5\n",
            "Episode 26: reward: 1.000, steps: 4\n",
            "Episode 27: reward: 1.000, steps: 3\n",
            "Episode 28: reward: 1.000, steps: 4\n",
            "Episode 29: reward: 1.000, steps: 4\n",
            "Episode 30: reward: 1.000, steps: 3\n",
            "Episode 31: reward: 1.000, steps: 3\n",
            "Episode 32: reward: 1.000, steps: 3\n",
            "Episode 33: reward: 1.000, steps: 3\n",
            "Episode 34: reward: 1.000, steps: 4\n",
            "Episode 35: reward: 1.000, steps: 4\n",
            "Episode 36: reward: 1.000, steps: 4\n",
            "Episode 37: reward: 1.000, steps: 4\n",
            "Episode 38: reward: 1.000, steps: 5\n",
            "Episode 39: reward: 1.000, steps: 4\n",
            "Episode 40: reward: 1.000, steps: 4\n",
            "Episode 41: reward: 1.000, steps: 5\n",
            "Episode 42: reward: 1.000, steps: 3\n",
            "Episode 43: reward: 1.000, steps: 5\n",
            "Episode 44: reward: 1.000, steps: 4\n",
            "Episode 45: reward: 1.000, steps: 3\n",
            "Episode 46: reward: 1.000, steps: 4\n",
            "Episode 47: reward: 1.000, steps: 3\n",
            "Episode 48: reward: 1.000, steps: 5\n",
            "Episode 49: reward: 1.000, steps: 4\n",
            "Episode 50: reward: 1.000, steps: 4\n",
            "Episode 51: reward: 1.000, steps: 5\n",
            "Episode 52: reward: 1.000, steps: 3\n",
            "Episode 53: reward: 1.000, steps: 3\n",
            "Episode 54: reward: 1.000, steps: 3\n",
            "Episode 55: reward: 1.000, steps: 4\n",
            "Episode 56: reward: 1.000, steps: 3\n",
            "Episode 57: reward: 1.000, steps: 5\n",
            "Episode 58: reward: 1.000, steps: 3\n",
            "Episode 59: reward: 1.000, steps: 3\n",
            "Episode 60: reward: 1.000, steps: 5\n",
            "Episode 61: reward: 1.000, steps: 5\n",
            "Episode 62: reward: 1.000, steps: 4\n",
            "Episode 63: reward: 1.000, steps: 5\n",
            "Episode 64: reward: 1.000, steps: 3\n",
            "Episode 65: reward: 1.000, steps: 4\n",
            "Episode 66: reward: 1.000, steps: 4\n",
            "Episode 67: reward: 1.000, steps: 4\n",
            "Episode 68: reward: 1.000, steps: 3\n",
            "Episode 69: reward: 1.000, steps: 3\n",
            "Episode 70: reward: 1.000, steps: 4\n",
            "Episode 71: reward: 1.000, steps: 3\n",
            "Episode 72: reward: 1.000, steps: 3\n",
            "Episode 73: reward: 1.000, steps: 3\n",
            "Episode 74: reward: 1.000, steps: 3\n",
            "Episode 75: reward: 1.000, steps: 4\n",
            "Episode 76: reward: 1.000, steps: 4\n",
            "Episode 77: reward: 1.000, steps: 3\n",
            "Episode 78: reward: 1.000, steps: 3\n",
            "Episode 79: reward: 1.000, steps: 5\n",
            "Episode 80: reward: 1.000, steps: 4\n",
            "Episode 81: reward: 1.000, steps: 3\n",
            "Episode 82: reward: 1.000, steps: 4\n",
            "Episode 83: reward: 1.000, steps: 5\n",
            "Episode 84: reward: 1.000, steps: 3\n",
            "Episode 85: reward: 1.000, steps: 4\n",
            "Episode 86: reward: 1.000, steps: 5\n",
            "Episode 87: reward: 1.000, steps: 3\n",
            "Episode 88: reward: 1.000, steps: 3\n",
            "Episode 89: reward: 1.000, steps: 4\n",
            "Episode 90: reward: 1.000, steps: 4\n",
            "Episode 91: reward: 1.000, steps: 4\n",
            "Episode 92: reward: 1.000, steps: 5\n",
            "Episode 93: reward: 1.000, steps: 4\n",
            "Episode 94: reward: 1.000, steps: 4\n",
            "Episode 95: reward: 1.000, steps: 4\n",
            "Episode 96: reward: 1.000, steps: 3\n",
            "Episode 97: reward: 1.000, steps: 5\n",
            "Episode 98: reward: 1.000, steps: 4\n",
            "Episode 99: reward: 1.000, steps: 3\n",
            "Episode 100: reward: 1.000, steps: 4\n"
          ],
          "name": "stdout"
        },
        {
          "output_type": "execute_result",
          "data": {
            "text/plain": [
              "<keras.callbacks.History at 0x7f9f8d071550>"
            ]
          },
          "metadata": {
            "tags": []
          },
          "execution_count": 6
        }
      ]
    },
    {
      "cell_type": "code",
      "metadata": {
        "id": "5qEMcGEexHvk"
      },
      "source": [
        "import math\r\n",
        "import gym\r\n",
        "from gym import spaces, logger\r\n",
        "from gym.utils import seeding\r\n",
        "import numpy as np\r\n",
        "import copy\r\n",
        "import random\r\n",
        "\r\n",
        "class TicTacToe(gym.core.Env):\r\n",
        "    def __init__(self):\r\n",
        "        self.n_action = 9\r\n",
        "        self.board = [0] * self.n_action\r\n",
        "        self.action_space = gym.spaces.Discrete(self.n_action) # actionの取りうる値\r\n",
        "        self.observation_space = gym.spaces.Box(low=-1, high =1, shape=(self.n_action,)) \r\n",
        "        self.result = []\r\n",
        "\r\n",
        "    def step(self, action):\r\n",
        "      self.board, end_flg, reward = self.get_input(self.board, action)\r\n",
        "      done = end_flg\r\n",
        "      info = {}\r\n",
        "\r\n",
        "      return self.board, reward, done, info\r\n",
        "\r\n",
        "    def get_input(self, board, action):\r\n",
        "      end_flg = 0\r\n",
        "      reward = 0\r\n",
        "      #AI#\r\n",
        "      space = [i for i, x in enumerate(board) if x == 0 ]\r\n",
        "      if action in space:\r\n",
        "        flg = 1\r\n",
        "        board[action] = flg\r\n",
        "        end_flg = self.judge(board,flg)\r\n",
        "        if end_flg == 1:\r\n",
        "          reward = 1\r\n",
        "          print(\"Lose\")\r\n",
        "          self.result.append(reward)\r\n",
        "      #human#\r\n",
        "        else:\r\n",
        "          print('\\n')\r\n",
        "          print(str(board[0]) + '|' + str(board[1]) + '|' + str(board[2]))\r\n",
        "          print(\"-----\")\r\n",
        "          print(str(board[3]) + '|' + str(board[4]) + '|' + str(board[5]))\r\n",
        "          print(\"-----\")\r\n",
        "          print(str(board[6]) + '|' + str(board[7]) + '|' + str(board[8]))\r\n",
        "          print('\\n')\r\n",
        "          space = [i for i, x in enumerate(board) if x == 0 ]\r\n",
        "          print(space)\r\n",
        "          human = input()\r\n",
        "          flg = -1\r\n",
        "          board[int(human)] = flg\r\n",
        "          end_flg = self.judge(board,flg)\r\n",
        "          if end_flg == 1:\r\n",
        "            reward = -1\r\n",
        "            print(\"Win\")\r\n",
        "      else:\r\n",
        "        end_flg = 1\r\n",
        "        reward = -1\r\n",
        "        self.result.append(reward)\r\n",
        "\r\n",
        "      return board, end_flg, reward\r\n",
        "\r\n",
        "    def judge(self, board, flg):\r\n",
        "      end_flg = 0\r\n",
        "      first_list = [0, 3, 6, 0, 1, 2, 0, 2]\r\n",
        "      second_list = [1, 4, 7, 3, 4, 5, 4, 4]\r\n",
        "      third_list = [2, 5, 8, 6, 7, 8, 8, 6]\r\n",
        "      for first, second, third in zip(first_list, second_list, third_list):\r\n",
        "        if board[first] ==flg and board[first] == board[second] and board[first] == board[third]:\r\n",
        "          end_flg = 1\r\n",
        "          break\r\n",
        "      space = [i for i, x in enumerate(board) if x == 0 ]\r\n",
        "      if len(space) == 0:\r\n",
        "        end_flg = 1\r\n",
        "        reward = -1\r\n",
        "\r\n",
        "      return end_flg\r\n",
        "    \r\n",
        "    def reset(self):\r\n",
        "        self.board = [0] * self.n_action\r\n",
        "        return self.board\r\n",
        "\r\n",
        "    def render(self, mode):\r\n",
        "        pass\r\n",
        "\r\n",
        "    def close(self):\r\n",
        "        pass\r\n",
        "\r\n",
        "    def seed(self):\r\n",
        "        pass"
      ],
      "execution_count": 7,
      "outputs": []
    },
    {
      "cell_type": "code",
      "metadata": {
        "colab": {
          "base_uri": "https://localhost:8080/"
        },
        "id": "QL7C-OFLxsp-",
        "outputId": "8fd46213-9acb-4827-d2b4-82b661088f94"
      },
      "source": [
        "env2 = TicTacToe()\r\n",
        "import rl.callbacks\r\n",
        " \r\n",
        "nb_episodes = 1\r\n",
        "dqn.test(env2, nb_episodes=nb_episodes, visualize=False)"
      ],
      "execution_count": 8,
      "outputs": [
        {
          "output_type": "stream",
          "text": [
            "Testing for 1 episodes ...\n",
            "\n",
            "\n",
            "0|0|1\n",
            "-----\n",
            "0|0|0\n",
            "-----\n",
            "0|0|0\n",
            "\n",
            "\n",
            "[0, 1, 3, 4, 5, 6, 7, 8]\n",
            "5\n",
            "\n",
            "\n",
            "0|0|1\n",
            "-----\n",
            "0|0|-1\n",
            "-----\n",
            "0|1|0\n",
            "\n",
            "\n",
            "[0, 1, 3, 4, 6, 8]\n",
            "4\n",
            "\n",
            "\n",
            "0|0|1\n",
            "-----\n",
            "1|-1|-1\n",
            "-----\n",
            "0|1|0\n",
            "\n",
            "\n",
            "[0, 1, 6, 8]\n",
            "0\n",
            "\n",
            "\n",
            "-1|0|1\n",
            "-----\n",
            "1|-1|-1\n",
            "-----\n",
            "0|1|1\n",
            "\n",
            "\n",
            "[1, 6]\n",
            "6\n",
            "Lose\n",
            "Episode 1: reward: 1.000, steps: 5\n"
          ],
          "name": "stdout"
        },
        {
          "output_type": "execute_result",
          "data": {
            "text/plain": [
              "<keras.callbacks.History at 0x7f9f616f5ba8>"
            ]
          },
          "metadata": {
            "tags": []
          },
          "execution_count": 8
        }
      ]
    },
    {
      "cell_type": "code",
      "metadata": {
        "colab": {
          "base_uri": "https://localhost:8080/"
        },
        "id": "HB0yxuT2iKZB",
        "outputId": "51d20720-528a-4f89-aab4-ef225cc35122"
      },
      "source": [
        "mass = 5\r\n",
        "for i in range(5):\r\n",
        "  print(i)"
      ],
      "execution_count": 5,
      "outputs": [
        {
          "output_type": "stream",
          "text": [
            "0\n",
            "1\n",
            "2\n",
            "3\n",
            "4\n"
          ],
          "name": "stdout"
        }
      ]
    },
    {
      "cell_type": "code",
      "metadata": {
        "colab": {
          "base_uri": "https://localhost:8080/"
        },
        "id": "IEFEEjrp-Qgq",
        "outputId": "3265b6bb-6961-4bd3-8d89-ac5c42c41cba"
      },
      "source": [
        "mass = 10\r\n",
        "moku = 5\r\n",
        "board =[[0,0,0,0,0,0,0,0,0,0],[1,1,0,1,1,1,1,1,1,1,],[0,0,0,0,1,0,0,0,0,0],[0,0,0,0,1,0,0,0,0,0],[0,0,0,0,1,0,0,0,0,0],[0,0,0,0,1,0,0,0,0,0],[0,0,0,0,0,0,0,0,0,0],[0,0,0,0,0,0,0,0,0,0],[0,0,0,0,0,0,0,0,0,0],[1,1,1,1,1,1,1,1,1,1]]\r\n",
        "flg = 1\r\n",
        "end_flg = 0\r\n",
        "reward = 0\r\n",
        "for i in range(mass-moku):\r\n",
        "  for j in range(mass-moku):\r\n",
        "    for k in range(mass-moku):\r\n",
        "      if ((board[i][j+k] == board[i+1][j+k] == board[i+2][j+k] == board[i+3][j+k] == board[i+4][j+k] == flg) or\r\n",
        "         (board[i+k][j] == board[i+k][j+1] == board[i+k][j+2] == board[i+k][j+3] == board[i+k][j+4] == flg)):\r\n",
        "        end_flg = 1\r\n",
        "        reward = 1\r\n",
        "        print(i,\":\",j,\":\",k)\r\n",
        "        break\r\n",
        "     # break\r\n",
        "    if ((board[i][j] == board[i+1][j+1] == board[i+2][j+2] == board[i+3][j+3] == board[i+4][j+4] == flg) or\r\n",
        "      (board[i][j+4] == board[i+1][j+3] == board[i+2][j+2] == board[i+3][j+1] == board[i+4][j] == flg)):\r\n",
        "      end_flg = 1\r\n",
        "      reward = 1\r\n",
        "      print(i,\":\",j)\r\n",
        "      break\r\n",
        "    break\r\n",
        "\r\n",
        "print(end_flg)\r\n",
        "print(reward)"
      ],
      "execution_count": 17,
      "outputs": [
        {
          "output_type": "stream",
          "text": [
            "1 : 0 : 4\n",
            "1\n",
            "1\n"
          ],
          "name": "stdout"
        }
      ]
    },
    {
      "cell_type": "code",
      "metadata": {
        "colab": {
          "base_uri": "https://localhost:8080/"
        },
        "id": "Y20aaxVdnZla",
        "outputId": "8af0b026-567a-4724-b98e-01aec2da548f"
      },
      "source": [
        "mass = 10\r\n",
        "moku = 5\r\n",
        "board =[[0,0,0,0,0,0,0,0,0,0],\r\n",
        "        [1,1,-1,-1,-1,-1,1,-1,1,1],\r\n",
        "        [0,0,0,0,1,0,0,0,0,0],\r\n",
        "        [0,0,0,0,1,0,0,0,0,0],\r\n",
        "        [0,0,0,-1,1,0,0,0,0,0],\r\n",
        "        [0,0,1,0,-1,0,0,0,0,0],\r\n",
        "        [0,-1,0,0,-1,0,0,0,0,0],\r\n",
        "        [1,0,0,0,0,0,0,0,0,0],\r\n",
        "        [0,0,0,0,0,0,0,0,0,0],\r\n",
        "        [-1,-1,-1,1,-1,1,-1,1,1,1]]\r\n",
        "flg = 1\r\n",
        "end_flg = 0\r\n",
        "reward = 0\r\n",
        "score = []\r\n",
        "for i in range(mass-moku+1):\r\n",
        "  for j in range(mass-moku+1):\r\n",
        "    for k in range(mass-moku):\r\n",
        "      score_r = board[i][j+k] + board[i+1][j+k] + board[i+2][j+k] + board[i+3][j+k] + board[i+4][j+k]\r\n",
        "      score.append(score_r)\r\n",
        "      score_c = board[i+k][j] + board[i+k][j+1] + board[i+k][j+2] + board[i+k][j+3] + board[i+k][j+4]\r\n",
        "      score.append(score_c)\r\n",
        "    score_dl = board[i][j] + board[i+1][j+1] + board[i+2][j+2] + board[i+3][j+3] + board[i+4][j+4]\r\n",
        "    score.append(score_dl)\r\n",
        "    score_dr = board[i][j+4] + board[i+1][j+3] + board[i+2][j+2] + board[i+3][j+1] + board[i+4][j]\r\n",
        "    score.append(score_dr)\r\n",
        "    if abs(max(score)) == 5:\r\n",
        "      end_flg = 1\r\n",
        "      print(i+k,\":\",j+k)\r\n",
        "    #break\r\n",
        "#    break\r\n",
        "\r\n",
        "reward = max(score)\r\n",
        "\r\n",
        "print(end_flg)\r\n",
        "print(reward)"
      ],
      "execution_count": 30,
      "outputs": [
        {
          "output_type": "stream",
          "text": [
            "0\n",
            "3\n"
          ],
          "name": "stdout"
        }
      ]
    },
    {
      "cell_type": "code",
      "metadata": {
        "id": "LkOhT1k3jV0L"
      },
      "source": [
        ""
      ],
      "execution_count": null,
      "outputs": []
    }
  ]
}